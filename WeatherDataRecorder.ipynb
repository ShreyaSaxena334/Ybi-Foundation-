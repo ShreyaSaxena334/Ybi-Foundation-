{
  "nbformat": 4,
  "nbformat_minor": 0,
  "metadata": {
    "colab": {
      "provenance": [],
      "authorship_tag": "ABX9TyMuuTWFn+b1M7zYpQo+rzWV",
      "include_colab_link": true
    },
    "kernelspec": {
      "name": "python3",
      "display_name": "Python 3"
    },
    "language_info": {
      "name": "python"
    }
  },
  "cells": [
    {
      "cell_type": "markdown",
      "metadata": {
        "id": "view-in-github",
        "colab_type": "text"
      },
      "source": [
        "<a href=\"https://colab.research.google.com/github/ShreyaSaxena334/Ybi-Foundation-/blob/main/WeatherDataRecorder.ipynb\" target=\"_parent\"><img src=\"https://colab.research.google.com/assets/colab-badge.svg\" alt=\"Open In Colab\"/></a>"
      ]
    },
    {
      "cell_type": "code",
      "execution_count": 1,
      "metadata": {
        "colab": {
          "base_uri": "https://localhost:8080/"
        },
        "id": "qTF5i_P-wZkS",
        "outputId": "669b670c-0689-4fc6-fef3-f8894c8b8737"
      },
      "outputs": [
        {
          "output_type": "stream",
          "name": "stdout",
          "text": [
            "Requirement already satisfied: pandas in /usr/local/lib/python3.11/dist-packages (2.2.2)\n",
            "Requirement already satisfied: numpy>=1.23.2 in /usr/local/lib/python3.11/dist-packages (from pandas) (2.0.2)\n",
            "Requirement already satisfied: python-dateutil>=2.8.2 in /usr/local/lib/python3.11/dist-packages (from pandas) (2.9.0.post0)\n",
            "Requirement already satisfied: pytz>=2020.1 in /usr/local/lib/python3.11/dist-packages (from pandas) (2025.2)\n",
            "Requirement already satisfied: tzdata>=2022.7 in /usr/local/lib/python3.11/dist-packages (from pandas) (2025.2)\n",
            "Requirement already satisfied: six>=1.5 in /usr/local/lib/python3.11/dist-packages (from python-dateutil>=2.8.2->pandas) (1.17.0)\n"
          ]
        }
      ],
      "source": [
        "# Install pandas (only needed if it's not already available)\n",
        "!pip install pandas\n",
        "\n",
        "# Import the library\n",
        "import pandas as pd\n",
        "from datetime import datetime\n"
      ]
    },
    {
      "cell_type": "code",
      "source": [
        "# Empty list to store weather entries\n",
        "weather_data = []\n",
        "\n",
        "# Set to keep track of unique dates (no duplicates)\n",
        "recorded_dates = set()\n"
      ],
      "metadata": {
        "id": "nSs6hdRmwlCp"
      },
      "execution_count": 2,
      "outputs": []
    },
    {
      "cell_type": "code",
      "source": [
        "# Function to validate the date format\n",
        "def validate_date(date_str):\n",
        "    try:\n",
        "        datetime.strptime(date_str, \"%Y-%m-%d\")  # Check if format is correct\n",
        "        return True\n",
        "    except ValueError:\n",
        "        return False\n",
        "\n",
        "# Function to add a new weather entry\n",
        "def add_weather_data():\n",
        "    date = input(\"Enter date (YYYY-MM-DD): \")\n",
        "\n",
        "    if not validate_date(date):\n",
        "        print(\"Invalid date format. Use YYYY-MM-DD.\")\n",
        "        return\n",
        "\n",
        "    if date in recorded_dates:\n",
        "        print(\"Data for this date already exists.\")\n",
        "        return\n",
        "\n",
        "    try:\n",
        "        temperature = float(input(\"Enter temperature (°C): \"))\n",
        "        condition = input(\"Enter weather condition (e.g., Sunny, Rainy): \")\n",
        "    except ValueError:\n",
        "        print(\"Invalid temperature input.\")\n",
        "        return\n",
        "\n",
        "    # Add to our storage\n",
        "    weather_data.append({\n",
        "        \"Date\": date,\n",
        "        \"Temperature\": temperature,\n",
        "        \"Condition\": condition\n",
        "    })\n",
        "    recorded_dates.add(date)\n",
        "    print(\"Weather data added successfully!\")\n"
      ],
      "metadata": {
        "id": "T28oEvPrw24c"
      },
      "execution_count": 3,
      "outputs": []
    },
    {
      "cell_type": "code",
      "source": [
        "add_weather_data()"
      ],
      "metadata": {
        "colab": {
          "base_uri": "https://localhost:8080/"
        },
        "id": "9_rAhcZxw6M8",
        "outputId": "b37844a8-7d0e-4ff9-f164-6baf606c9ea2"
      },
      "execution_count": 6,
      "outputs": [
        {
          "output_type": "stream",
          "name": "stdout",
          "text": [
            "Enter date (YYYY-MM-DD): 2025-08-02\n",
            "Data for this date already exists.\n"
          ]
        }
      ]
    },
    {
      "cell_type": "code",
      "source": [
        "# Function to view saved weather data\n",
        "def view_weather_data():\n",
        "    if not weather_data:\n",
        "        print(\"📭 No data recorded yet.\")\n",
        "        return\n",
        "\n",
        "    print(\"\\n Recorded Weather Data:\")\n",
        "    for entry in weather_data:\n",
        "        print(f\"{entry['Date']}: {entry['Temperature']}°C, {entry['Condition']}\")"
      ],
      "metadata": {
        "id": "qDIVtw_oxSvq"
      },
      "execution_count": 7,
      "outputs": []
    },
    {
      "cell_type": "code",
      "source": [
        "view_weather_data()"
      ],
      "metadata": {
        "colab": {
          "base_uri": "https://localhost:8080/"
        },
        "id": "kpqWMQnCxU5q",
        "outputId": "b81cb725-4c21-4faf-bdff-2088827c204e"
      },
      "execution_count": 8,
      "outputs": [
        {
          "output_type": "stream",
          "name": "stdout",
          "text": [
            "\n",
            " Recorded Weather Data:\n",
            "2025-08-02: 30.0°C, Humid\n"
          ]
        }
      ]
    },
    {
      "cell_type": "code",
      "source": [
        "# Function to analyze and export weather data\n",
        "def summarize_and_export():\n",
        "    if not weather_data:\n",
        "        print(\" No data to analyze.\")\n",
        "        return\n",
        "\n",
        "    # Create a DataFrame using pandas\n",
        "    df = pd.DataFrame(weather_data)\n",
        "\n",
        "    # Calculate average temperature\n",
        "    avg_temp = df[\"Temperature\"].mean()\n",
        "    print(f\"\\n Average Temperature: {avg_temp:.2f}°C\")\n",
        "\n",
        "    # Count how many times each condition occurred\n",
        "    condition_counts = df[\"Condition\"].value_counts()\n",
        "    print(\"\\n Weather Conditions Frequency:\")\n",
        "    print(condition_counts)\n",
        "\n",
        "    # Export to CSV\n",
        "    df.to_csv(\"weather_data.csv\", index=False)\n",
        "    print(\"\\n Data exported as 'weather_data.csv'\")"
      ],
      "metadata": {
        "id": "V8j6r7eJxgQO"
      },
      "execution_count": 9,
      "outputs": []
    },
    {
      "cell_type": "code",
      "source": [
        "summarize_and_export()"
      ],
      "metadata": {
        "colab": {
          "base_uri": "https://localhost:8080/"
        },
        "id": "dXijQ_dHxj5T",
        "outputId": "e10fec9b-ebe3-4ce1-feff-5c2309e0f779"
      },
      "execution_count": 10,
      "outputs": [
        {
          "output_type": "stream",
          "name": "stdout",
          "text": [
            "\n",
            " Average Temperature: 30.00°C\n",
            "\n",
            " Weather Conditions Frequency:\n",
            "Condition\n",
            "Humid    1\n",
            "Name: count, dtype: int64\n",
            "\n",
            " Data exported as 'weather_data.csv'\n"
          ]
        }
      ]
    },
    {
      "cell_type": "code",
      "source": [
        "from google.colab import files\n",
        "files.download('weather_data.csv')"
      ],
      "metadata": {
        "colab": {
          "base_uri": "https://localhost:8080/",
          "height": 17
        },
        "id": "_BE_c5f0xtAt",
        "outputId": "02bc737c-1110-4648-902e-92df38466b96"
      },
      "execution_count": 11,
      "outputs": [
        {
          "output_type": "display_data",
          "data": {
            "text/plain": [
              "<IPython.core.display.Javascript object>"
            ],
            "application/javascript": [
              "\n",
              "    async function download(id, filename, size) {\n",
              "      if (!google.colab.kernel.accessAllowed) {\n",
              "        return;\n",
              "      }\n",
              "      const div = document.createElement('div');\n",
              "      const label = document.createElement('label');\n",
              "      label.textContent = `Downloading \"${filename}\": `;\n",
              "      div.appendChild(label);\n",
              "      const progress = document.createElement('progress');\n",
              "      progress.max = size;\n",
              "      div.appendChild(progress);\n",
              "      document.body.appendChild(div);\n",
              "\n",
              "      const buffers = [];\n",
              "      let downloaded = 0;\n",
              "\n",
              "      const channel = await google.colab.kernel.comms.open(id);\n",
              "      // Send a message to notify the kernel that we're ready.\n",
              "      channel.send({})\n",
              "\n",
              "      for await (const message of channel.messages) {\n",
              "        // Send a message to notify the kernel that we're ready.\n",
              "        channel.send({})\n",
              "        if (message.buffers) {\n",
              "          for (const buffer of message.buffers) {\n",
              "            buffers.push(buffer);\n",
              "            downloaded += buffer.byteLength;\n",
              "            progress.value = downloaded;\n",
              "          }\n",
              "        }\n",
              "      }\n",
              "      const blob = new Blob(buffers, {type: 'application/binary'});\n",
              "      const a = document.createElement('a');\n",
              "      a.href = window.URL.createObjectURL(blob);\n",
              "      a.download = filename;\n",
              "      div.appendChild(a);\n",
              "      a.click();\n",
              "      div.remove();\n",
              "    }\n",
              "  "
            ]
          },
          "metadata": {}
        },
        {
          "output_type": "display_data",
          "data": {
            "text/plain": [
              "<IPython.core.display.Javascript object>"
            ],
            "application/javascript": [
              "download(\"download_3f0d303a-5e36-4cb9-8877-b4351890abf8\", \"weather_data.csv\", 49)"
            ]
          },
          "metadata": {}
        }
      ]
    },
    {
      "cell_type": "code",
      "source": [
        "# Main menu to interact with the system\n",
        "def main_menu():\n",
        "    while True:\n",
        "        print(\"\\n--- Weather Data Recorder Menu ---\")\n",
        "        print(\"1. Add Weather Data\")\n",
        "        print(\"2. View Recorded Data\")\n",
        "        print(\"3. Summarize & Export Data\")\n",
        "        print(\"4. Exit\")\n",
        "\n",
        "        choice = input(\"Choose an option (1-4): \")\n",
        "\n",
        "        if choice == \"1\":\n",
        "            add_weather_data()\n",
        "        elif choice == \"2\":\n",
        "            view_weather_data()\n",
        "        elif choice == \"3\":\n",
        "            summarize_and_export()\n",
        "        elif choice == \"4\":\n",
        "            print(\" Exiting. Have a great day!\")\n",
        "            break\n",
        "        else:\n",
        "            print(\" Invalid choice. Please enter a number from 1 to 4.\")\n"
      ],
      "metadata": {
        "id": "2BBSR_UBx27b"
      },
      "execution_count": 12,
      "outputs": []
    },
    {
      "cell_type": "code",
      "source": [
        "main_menu()"
      ],
      "metadata": {
        "colab": {
          "base_uri": "https://localhost:8080/"
        },
        "id": "W_qxvRgKx6Pt",
        "outputId": "24de7ea8-dcc1-47f5-e564-29667535c5ff"
      },
      "execution_count": 13,
      "outputs": [
        {
          "output_type": "stream",
          "name": "stdout",
          "text": [
            "\n",
            "--- Weather Data Recorder Menu ---\n",
            "1. Add Weather Data\n",
            "2. View Recorded Data\n",
            "3. Summarize & Export Data\n",
            "4. Exit\n",
            "Choose an option (1-4): 3\n",
            "\n",
            " Average Temperature: 30.00°C\n",
            "\n",
            " Weather Conditions Frequency:\n",
            "Condition\n",
            "Humid    1\n",
            "Name: count, dtype: int64\n",
            "\n",
            " Data exported as 'weather_data.csv'\n",
            "\n",
            "--- Weather Data Recorder Menu ---\n",
            "1. Add Weather Data\n",
            "2. View Recorded Data\n",
            "3. Summarize & Export Data\n",
            "4. Exit\n",
            "Choose an option (1-4): 2\n",
            "\n",
            " Recorded Weather Data:\n",
            "2025-08-02: 30.0°C, Humid\n",
            "\n",
            "--- Weather Data Recorder Menu ---\n",
            "1. Add Weather Data\n",
            "2. View Recorded Data\n",
            "3. Summarize & Export Data\n",
            "4. Exit\n",
            "Choose an option (1-4): 4\n",
            " Exiting. Have a great day!\n"
          ]
        }
      ]
    }
  ]
}